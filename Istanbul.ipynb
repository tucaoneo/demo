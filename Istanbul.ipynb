{
  "nbformat": 4,
  "nbformat_minor": 0,
  "metadata": {
    "colab": {
      "name": "Istanbul.ipynb",
      "provenance": [],
      "collapsed_sections": [],
      "authorship_tag": "ABX9TyMKf12f4eIaSvuc2NgHcw3y",
      "include_colab_link": true
    },
    "kernelspec": {
      "name": "python3",
      "display_name": "Python 3"
    },
    "language_info": {
      "name": "python"
    }
  },
  "cells": [
    {
      "cell_type": "markdown",
      "metadata": {
        "id": "view-in-github",
        "colab_type": "text"
      },
      "source": [
        "<a href=\"https://colab.research.google.com/github/tucaoneo/demo/blob/master/Istanbul.ipynb\" target=\"_parent\"><img src=\"https://colab.research.google.com/assets/colab-badge.svg\" alt=\"Open In Colab\"/></a>"
      ]
    },
    {
      "cell_type": "markdown",
      "metadata": {
        "id": "iGu7xrkHC6NI"
      },
      "source": [
        "Istanbul is a boardgame where players (merchants) compete to be the most successful ruby collector in the capital of the Ottoman Empire\n",
        "\n",
        "https://boardgamegeek.com/boardgame/148949/istanbul\n",
        "\n",
        "This code is to solve certain probability problems in the game\n",
        "\n"
      ]
    },
    {
      "cell_type": "code",
      "metadata": {
        "id": "BAs9f2YIC3Qe"
      },
      "source": [
        "import pandas as pd\n",
        "import numpy as np"
      ],
      "execution_count": 1,
      "outputs": []
    },
    {
      "cell_type": "markdown",
      "metadata": {
        "id": "VoCsCWt2Gih4"
      },
      "source": [
        "1. Tea House\n",
        "\n",
        "1.1. General Rule: Announce a number between 3 and 12. Then roll both dice. If you roll equal to or greater than the announced number, take the announced number of Lira from the general supply. Otherwise, only take 2 Lira."
      ]
    },
    {
      "cell_type": "markdown",
      "metadata": {
        "id": "K8uJP_57Hdk-"
      },
      "source": [
        "Announced number is in [3, 12]. It's interesting that announcing 2 is forbidden. Let lira[x] be the expected gain from announcing x, where x = 3, ..., 12.\n",
        "\n",
        "Actual result (the sum of both dice) is in [2, 12]. Let p[y] = the probability that the result is y, where y = 2, ..., 12."
      ]
    },
    {
      "cell_type": "code",
      "metadata": {
        "colab": {
          "base_uri": "https://localhost:8080/"
        },
        "id": "pOSkvN1qHKeA",
        "outputId": "e340904e-e74b-4d56-a42c-aa295bca7915"
      },
      "source": [
        "p = [0, 0] + [i / 36 for i in range(1, 7)] + [i / 36 for i in range(5, 0, -1)]\n",
        "p"
      ],
      "execution_count": 2,
      "outputs": [
        {
          "output_type": "execute_result",
          "data": {
            "text/plain": [
              "[0,\n",
              " 0,\n",
              " 0.027777777777777776,\n",
              " 0.05555555555555555,\n",
              " 0.08333333333333333,\n",
              " 0.1111111111111111,\n",
              " 0.1388888888888889,\n",
              " 0.16666666666666666,\n",
              " 0.1388888888888889,\n",
              " 0.1111111111111111,\n",
              " 0.08333333333333333,\n",
              " 0.05555555555555555,\n",
              " 0.027777777777777776]"
            ]
          },
          "metadata": {},
          "execution_count": 2
        }
      ]
    },
    {
      "cell_type": "code",
      "metadata": {
        "colab": {
          "base_uri": "https://localhost:8080/"
        },
        "id": "9Nt_5MXcMXfW",
        "outputId": "01f2ea73-ee2b-4cbd-e428-40e6f9f49078"
      },
      "source": [
        "lira = [0, 0, 0]\n",
        "for x in range(3, 13):\n",
        "    lira.append(sum(p[x:]) * x + sum(p[:x]) * 2)\n",
        "lira"
      ],
      "execution_count": 3,
      "outputs": [
        {
          "output_type": "execute_result",
          "data": {
            "text/plain": [
              "[0,\n",
              " 0,\n",
              " 0,\n",
              " 2.9722222222222223,\n",
              " 3.8333333333333335,\n",
              " 4.500000000000001,\n",
              " 4.888888888888889,\n",
              " 4.916666666666667,\n",
              " 4.5,\n",
              " 3.944444444444444,\n",
              " 3.333333333333334,\n",
              " 2.7500000000000004,\n",
              " 2.277777777777778]"
            ]
          },
          "metadata": {},
          "execution_count": 3
        }
      ]
    },
    {
      "cell_type": "markdown",
      "metadata": {
        "id": "nFtdUDR2OVyO"
      },
      "source": [
        "lira[x] is maximized at x = 7. So you should announce 7. The maximum expected gain 4.917."
      ]
    },
    {
      "cell_type": "markdown",
      "metadata": {
        "id": "4nwQp0IvOeLP"
      },
      "source": [
        "1.2. Red Tile Ability: If you have the red Mosque tile, you may turn one\n",
        "die to “4” after the roll or re-roll both dice. For simplicity, we will say we turn or re-roll."
      ]
    },
    {
      "cell_type": "markdown",
      "metadata": {
        "id": "4zTZQIh5O6ru"
      },
      "source": [
        "Let lessThan[z] be the probability that the result of one die is smaller than z, where z = 1, ..., 6.\n",
        "\n",
        "Let liraRedTile[x] be the expected gain from announcing x, now that we are armed with the red tile ability, where x = 3, ..., 12.\n",
        "\n",
        "The red tile allows you to be somewhat bolder when announcing numbers. There are three situations based on what you announce: \n",
        "\n",
        "Suppose you are a cautious player and you announce a number x <= 5. Now you are guaranteed to gain x, because you can always get result >= x by turning. Therefore liraRedTile[x] = x for x = 3, 4, 5.\n",
        "\n",
        "Suppose you announce x = 6, ..., 10. If the first roll fails, you will decide whether to turn or re-roll, depending on how the two dice are.\n",
        "\n",
        "Finally, suppose you are very aggressive and announce x >= 11. Now, if your first roll fails, turning will not help you. You will have to re-roll hope you get lucky."
      ]
    },
    {
      "cell_type": "code",
      "metadata": {
        "colab": {
          "base_uri": "https://localhost:8080/"
        },
        "id": "pqt9We3lPcmO",
        "outputId": "4e602c14-3d63-4571-af43-8b59393a8d54"
      },
      "source": [
        "lessThan = [0] + [(z - 1) / 6 for z in range(1, 7)]\n",
        "lessThan"
      ],
      "execution_count": 4,
      "outputs": [
        {
          "output_type": "execute_result",
          "data": {
            "text/plain": [
              "[0,\n",
              " 0.0,\n",
              " 0.16666666666666666,\n",
              " 0.3333333333333333,\n",
              " 0.5,\n",
              " 0.6666666666666666,\n",
              " 0.8333333333333334]"
            ]
          },
          "metadata": {},
          "execution_count": 4
        }
      ]
    },
    {
      "cell_type": "code",
      "metadata": {
        "colab": {
          "base_uri": "https://localhost:8080/"
        },
        "id": "Bs0ZG9q0RFiL",
        "outputId": "72355aed-0b10-495b-fbca-097744fa2b92"
      },
      "source": [
        "liraRedTile = [0, 0, 0, 3, 4, 5]\n",
        "for x in range(6, 11):\n",
        "    liraRedTile.append((1 - lessThan[x - 4] ** 2 + lessThan[x - 4] ** 2 * sum(p[x:])) * x\\\n",
        "                       + lessThan[x - 4] ** 2 * sum(p[:x]) * 2)\n",
        "for x in range(11, 13):\n",
        "    liraRedTile.append((sum(p[x:]) + sum(p[:x]) * sum(p[x:])) * x\\\n",
        "                       + (sum(p[:x]) - sum(p[:x]) * sum(p[x:])) * 2)\n",
        "liraRedTile"
      ],
      "execution_count": 5,
      "outputs": [
        {
          "output_type": "execute_result",
          "data": {
            "text/plain": [
              "[0,\n",
              " 0,\n",
              " 0,\n",
              " 3,\n",
              " 4,\n",
              " 5,\n",
              " 5.969135802469135,\n",
              " 6.768518518518518,\n",
              " 7.125,\n",
              " 6.753086419753087,\n",
              " 5.370370370370369,\n",
              " 3.4375,\n",
              " 2.5478395061728403]"
            ]
          },
          "metadata": {},
          "execution_count": 5
        }
      ]
    },
    {
      "cell_type": "markdown",
      "metadata": {
        "id": "W_PUaUE6a0JB"
      },
      "source": [
        "liraRedTile[x] is maximized at x = 8. So you should announce 8. We can see the red tile has significantly boosted the expected maximum gain from 4.917 to 7.125."
      ]
    },
    {
      "cell_type": "markdown",
      "metadata": {
        "id": "BWrdREOUEnQo"
      },
      "source": [
        "Put all results in a data frame"
      ]
    },
    {
      "cell_type": "code",
      "metadata": {
        "colab": {
          "base_uri": "https://localhost:8080/",
          "height": 452
        },
        "id": "LO27cR4yEplW",
        "outputId": "84403c9e-5f2c-4279-9f7e-9d8552893793"
      },
      "source": [
        "TH_ExpectedGains = pd.DataFrame({'AnnouncedNumber': list(range(13)), 'Original': lira, 'WithRedTile': liraRedTile})\n",
        "TH_ExpectedGains[\"RedTileBoost\"] = TH_ExpectedGains[\"WithRedTile\"] - TH_ExpectedGains[\"Original\"]\n",
        "TH_ExpectedGains"
      ],
      "execution_count": 6,
      "outputs": [
        {
          "output_type": "execute_result",
          "data": {
            "text/html": [
              "<div>\n",
              "<style scoped>\n",
              "    .dataframe tbody tr th:only-of-type {\n",
              "        vertical-align: middle;\n",
              "    }\n",
              "\n",
              "    .dataframe tbody tr th {\n",
              "        vertical-align: top;\n",
              "    }\n",
              "\n",
              "    .dataframe thead th {\n",
              "        text-align: right;\n",
              "    }\n",
              "</style>\n",
              "<table border=\"1\" class=\"dataframe\">\n",
              "  <thead>\n",
              "    <tr style=\"text-align: right;\">\n",
              "      <th></th>\n",
              "      <th>AnnouncedNumber</th>\n",
              "      <th>Original</th>\n",
              "      <th>WithRedTile</th>\n",
              "      <th>RedTileBoost</th>\n",
              "    </tr>\n",
              "  </thead>\n",
              "  <tbody>\n",
              "    <tr>\n",
              "      <th>0</th>\n",
              "      <td>0</td>\n",
              "      <td>0.000000</td>\n",
              "      <td>0.000000</td>\n",
              "      <td>0.000000</td>\n",
              "    </tr>\n",
              "    <tr>\n",
              "      <th>1</th>\n",
              "      <td>1</td>\n",
              "      <td>0.000000</td>\n",
              "      <td>0.000000</td>\n",
              "      <td>0.000000</td>\n",
              "    </tr>\n",
              "    <tr>\n",
              "      <th>2</th>\n",
              "      <td>2</td>\n",
              "      <td>0.000000</td>\n",
              "      <td>0.000000</td>\n",
              "      <td>0.000000</td>\n",
              "    </tr>\n",
              "    <tr>\n",
              "      <th>3</th>\n",
              "      <td>3</td>\n",
              "      <td>2.972222</td>\n",
              "      <td>3.000000</td>\n",
              "      <td>0.027778</td>\n",
              "    </tr>\n",
              "    <tr>\n",
              "      <th>4</th>\n",
              "      <td>4</td>\n",
              "      <td>3.833333</td>\n",
              "      <td>4.000000</td>\n",
              "      <td>0.166667</td>\n",
              "    </tr>\n",
              "    <tr>\n",
              "      <th>5</th>\n",
              "      <td>5</td>\n",
              "      <td>4.500000</td>\n",
              "      <td>5.000000</td>\n",
              "      <td>0.500000</td>\n",
              "    </tr>\n",
              "    <tr>\n",
              "      <th>6</th>\n",
              "      <td>6</td>\n",
              "      <td>4.888889</td>\n",
              "      <td>5.969136</td>\n",
              "      <td>1.080247</td>\n",
              "    </tr>\n",
              "    <tr>\n",
              "      <th>7</th>\n",
              "      <td>7</td>\n",
              "      <td>4.916667</td>\n",
              "      <td>6.768519</td>\n",
              "      <td>1.851852</td>\n",
              "    </tr>\n",
              "    <tr>\n",
              "      <th>8</th>\n",
              "      <td>8</td>\n",
              "      <td>4.500000</td>\n",
              "      <td>7.125000</td>\n",
              "      <td>2.625000</td>\n",
              "    </tr>\n",
              "    <tr>\n",
              "      <th>9</th>\n",
              "      <td>9</td>\n",
              "      <td>3.944444</td>\n",
              "      <td>6.753086</td>\n",
              "      <td>2.808642</td>\n",
              "    </tr>\n",
              "    <tr>\n",
              "      <th>10</th>\n",
              "      <td>10</td>\n",
              "      <td>3.333333</td>\n",
              "      <td>5.370370</td>\n",
              "      <td>2.037037</td>\n",
              "    </tr>\n",
              "    <tr>\n",
              "      <th>11</th>\n",
              "      <td>11</td>\n",
              "      <td>2.750000</td>\n",
              "      <td>3.437500</td>\n",
              "      <td>0.687500</td>\n",
              "    </tr>\n",
              "    <tr>\n",
              "      <th>12</th>\n",
              "      <td>12</td>\n",
              "      <td>2.277778</td>\n",
              "      <td>2.547840</td>\n",
              "      <td>0.270062</td>\n",
              "    </tr>\n",
              "  </tbody>\n",
              "</table>\n",
              "</div>"
            ],
            "text/plain": [
              "    AnnouncedNumber  Original  WithRedTile  RedTileBoost\n",
              "0                 0  0.000000     0.000000      0.000000\n",
              "1                 1  0.000000     0.000000      0.000000\n",
              "2                 2  0.000000     0.000000      0.000000\n",
              "3                 3  2.972222     3.000000      0.027778\n",
              "4                 4  3.833333     4.000000      0.166667\n",
              "5                 5  4.500000     5.000000      0.500000\n",
              "6                 6  4.888889     5.969136      1.080247\n",
              "7                 7  4.916667     6.768519      1.851852\n",
              "8                 8  4.500000     7.125000      2.625000\n",
              "9                 9  3.944444     6.753086      2.808642\n",
              "10               10  3.333333     5.370370      2.037037\n",
              "11               11  2.750000     3.437500      0.687500\n",
              "12               12  2.277778     2.547840      0.270062"
            ]
          },
          "metadata": {},
          "execution_count": 6
        }
      ]
    },
    {
      "cell_type": "markdown",
      "metadata": {
        "id": "4C2VNC2AbcsH"
      },
      "source": [
        "2. Black Market\n",
        "\n",
        "2.1. General Rule (the part that involves rolling dice):\n",
        "Roll both dice.\n",
        "If you rolled 7 or 8: Gain 1 blue good.\n",
        "If you rolled 9 or 10: Gain 2 blue goods.\n",
        "If you rolled 11 or 12: Gain 3 blue goods.\n",
        "\n",
        "Don't forget the limited room on your wheelbarrow. If your wheelbarrow doesn't have enough room for all the blue goods you can gain, then you load up your wheelbarrow and lose the extra blue goods."
      ]
    },
    {
      "cell_type": "markdown",
      "metadata": {
        "id": "_GAYPmzZdgzG"
      },
      "source": [
        "Let blue[y] be the number of blue goods to gain if the rolled result is y, where y = 2, ..., 12.\n",
        "\n",
        "Let expectedBlue[w] be the expected number of blue goods to gain if there are w empty slots on the wheelbarrow, where w = 0, ..., 5."
      ]
    },
    {
      "cell_type": "code",
      "metadata": {
        "colab": {
          "base_uri": "https://localhost:8080/"
        },
        "id": "WTGD-Cf2fBed",
        "outputId": "5d3e2bbe-354f-4222-a566-a6ab30421306"
      },
      "source": [
        "blue = [0] * 7 + [1] * 2 + [2] * 2 + [3] * 2\n",
        "blue"
      ],
      "execution_count": 7,
      "outputs": [
        {
          "output_type": "execute_result",
          "data": {
            "text/plain": [
              "[0, 0, 0, 0, 0, 0, 0, 1, 1, 2, 2, 3, 3]"
            ]
          },
          "metadata": {},
          "execution_count": 7
        }
      ]
    },
    {
      "cell_type": "code",
      "metadata": {
        "colab": {
          "base_uri": "https://localhost:8080/"
        },
        "id": "1vlp2S8GgXPw",
        "outputId": "348d83be-9be7-4149-ad94-d9fdeebc1c8b"
      },
      "source": [
        "expectedBlue = [0]\n",
        "for w in range(1, 6):\n",
        "    gain = 0\n",
        "    for y in range(2, 13):\n",
        "        gain += p[y] * min(w, blue[y])\n",
        "    expectedBlue.append(gain)\n",
        "expectedBlue"
      ],
      "execution_count": 8,
      "outputs": [
        {
          "output_type": "execute_result",
          "data": {
            "text/plain": [
              "[0,\n",
              " 0.5833333333333334,\n",
              " 0.8611111111111112,\n",
              " 0.9444444444444444,\n",
              " 0.9444444444444444,\n",
              " 0.9444444444444444]"
            ]
          },
          "metadata": {},
          "execution_count": 8
        }
      ]
    },
    {
      "cell_type": "markdown",
      "metadata": {
        "id": "diCewqhIhh0i"
      },
      "source": [
        "So if you have 1 empty slot on your wheelbarrow, you expect to gain 0.58 blue good. If you have 2 empty slots, you expect to gain 0.86 blue good. If you have 3 or more empty slots, you expect to gain 0.94 blue good."
      ]
    },
    {
      "cell_type": "markdown",
      "metadata": {
        "id": "GWbtz9i3iBsK"
      },
      "source": [
        "2.2. Red Tile Ability: If you have the red Mosque tile, you may turn one\n",
        "die to “4” after the roll or re-roll both dice."
      ]
    },
    {
      "cell_type": "markdown",
      "metadata": {
        "id": "_hoart1giHH8"
      },
      "source": [
        "To analyze the situation, one needs to break it down.\n",
        "\n",
        "If y = 2, 3, turning will not help. You have to re-roll.\n",
        "\n",
        "If y = 4 and it's 3 + 1, turning will make sure you gain 1 blue good instead of 0. Remember that, one roll without special ability is expected to gain less than 1 blue good. So you don't want to re-roll here.\n",
        "\n",
        "In fact, as long as you gain at least 1 blue good, re-rolling is never a good thing to do. In the situations below, you will never re-roll.\n",
        "\n",
        "If y = 4 and it's 2 + 2, then you gain nothing, even if you turn. You have to re-roll.\n",
        "\n",
        "If y = 5, turning will make sure you gain 1 blue good instead of 0.\n",
        "\n",
        "If y = 6 and it's 5 + 1, turning will make sure you gain 2 blue goods instead of 0.\n",
        "\n",
        "If y = 6 and it's 4 + 2 or 3 + 3, turning will make sure you gain 1 blue good instead of 0.\n",
        "\n",
        "If y = 7 and it's 6 + 1 or 5 + 2, turning will make sure you gain 2 blue goods instead of 1.\n",
        "\n",
        "If y = 7 and it's 4 + 3, you will gain 1 blue good, and turning will make no difference.\n",
        "\n",
        "If y = 8 and it's 6 + 2 or 5 + 3, turning will make sure you gain 2 blue goods instead of 1.\n",
        "\n",
        "If y = 8 and it's 4 + 4, you will gain 1 blue good, and turning will not make a difference.\n",
        "\n",
        "If y = 9, 10, you gain 2 blue goods, and turning will not help.\n",
        "\n",
        "If y = 11, 12, you gain 3 blue goods."
      ]
    },
    {
      "cell_type": "markdown",
      "metadata": {
        "id": "UW3XmLPI9zN3"
      },
      "source": [
        "With all that, let expectedBlueRedTile[w] be the expected number of blue goods to gain if there are w empty slots on the wheelbarrow, where w = 0, ..., 5."
      ]
    },
    {
      "cell_type": "code",
      "metadata": {
        "colab": {
          "base_uri": "https://localhost:8080/"
        },
        "id": "PO0CwSgg-C2U",
        "outputId": "f81ea5fc-c8d8-4034-8f51-4dc665230acb"
      },
      "source": [
        "expectedBlueRedTile = [0]\n",
        "for w in range(1, 6):\n",
        "    gain = 0\n",
        "    for y in range(2, 4):\n",
        "        gain += p[y] * expectedBlue[w]\n",
        "    # y = 4\n",
        "    gain += 2 / 36 * min(w, 1)\n",
        "    # y = 5\n",
        "    gain += p[5] * min(w, 1)\n",
        "    # y = 6\n",
        "    gain += 2 / 36 * min(w, 2) + 3 / 36 * min(w, 1)\n",
        "    # y = 7\n",
        "    gain += 4 / 36 * min(w, 2) + 2 / 36 * min(w, 1)\n",
        "    # y = 8\n",
        "    gain += 4 / 36 * min(w, 2) + 1 / 36 * min(w, 1)\n",
        "    for y in range(9, 13):\n",
        "        gain += p[y] * min(w, blue[y])\n",
        "    expectedBlueRedTile.append(gain)\n",
        "expectedBlueRedTile"
      ],
      "execution_count": 9,
      "outputs": [
        {
          "output_type": "execute_result",
          "data": {
            "text/plain": [
              "[0,\n",
              " 0.9375,\n",
              " 1.5162037037037037,\n",
              " 1.6064814814814816,\n",
              " 1.6064814814814816,\n",
              " 1.6064814814814816]"
            ]
          },
          "metadata": {},
          "execution_count": 9
        }
      ]
    },
    {
      "cell_type": "markdown",
      "metadata": {
        "id": "It8d8ZJ3B_hX"
      },
      "source": [
        "Put all results in a data frame"
      ]
    },
    {
      "cell_type": "code",
      "metadata": {
        "colab": {
          "base_uri": "https://localhost:8080/",
          "height": 235
        },
        "id": "6ElsfCfbB9GB",
        "outputId": "509d49dd-eb73-4b5e-b800-93670e237c86"
      },
      "source": [
        "BM_ExpectedGains = pd.DataFrame({'WheelbarrowEmptySlots': list(range(6)), 'Original': expectedBlue, 'WithRedTile': expectedBlueRedTile})\n",
        "BM_ExpectedGains[\"RedTileBoost\"] = BM_ExpectedGains[\"WithRedTile\"] - BM_ExpectedGains[\"Original\"]\n",
        "BM_ExpectedGains"
      ],
      "execution_count": 10,
      "outputs": [
        {
          "output_type": "execute_result",
          "data": {
            "text/html": [
              "<div>\n",
              "<style scoped>\n",
              "    .dataframe tbody tr th:only-of-type {\n",
              "        vertical-align: middle;\n",
              "    }\n",
              "\n",
              "    .dataframe tbody tr th {\n",
              "        vertical-align: top;\n",
              "    }\n",
              "\n",
              "    .dataframe thead th {\n",
              "        text-align: right;\n",
              "    }\n",
              "</style>\n",
              "<table border=\"1\" class=\"dataframe\">\n",
              "  <thead>\n",
              "    <tr style=\"text-align: right;\">\n",
              "      <th></th>\n",
              "      <th>WheelbarrowEmptySlots</th>\n",
              "      <th>Original</th>\n",
              "      <th>WithRedTile</th>\n",
              "      <th>RedTileBoost</th>\n",
              "    </tr>\n",
              "  </thead>\n",
              "  <tbody>\n",
              "    <tr>\n",
              "      <th>0</th>\n",
              "      <td>0</td>\n",
              "      <td>0.000000</td>\n",
              "      <td>0.000000</td>\n",
              "      <td>0.000000</td>\n",
              "    </tr>\n",
              "    <tr>\n",
              "      <th>1</th>\n",
              "      <td>1</td>\n",
              "      <td>0.583333</td>\n",
              "      <td>0.937500</td>\n",
              "      <td>0.354167</td>\n",
              "    </tr>\n",
              "    <tr>\n",
              "      <th>2</th>\n",
              "      <td>2</td>\n",
              "      <td>0.861111</td>\n",
              "      <td>1.516204</td>\n",
              "      <td>0.655093</td>\n",
              "    </tr>\n",
              "    <tr>\n",
              "      <th>3</th>\n",
              "      <td>3</td>\n",
              "      <td>0.944444</td>\n",
              "      <td>1.606481</td>\n",
              "      <td>0.662037</td>\n",
              "    </tr>\n",
              "    <tr>\n",
              "      <th>4</th>\n",
              "      <td>4</td>\n",
              "      <td>0.944444</td>\n",
              "      <td>1.606481</td>\n",
              "      <td>0.662037</td>\n",
              "    </tr>\n",
              "    <tr>\n",
              "      <th>5</th>\n",
              "      <td>5</td>\n",
              "      <td>0.944444</td>\n",
              "      <td>1.606481</td>\n",
              "      <td>0.662037</td>\n",
              "    </tr>\n",
              "  </tbody>\n",
              "</table>\n",
              "</div>"
            ],
            "text/plain": [
              "   WheelbarrowEmptySlots  Original  WithRedTile  RedTileBoost\n",
              "0                      0  0.000000     0.000000      0.000000\n",
              "1                      1  0.583333     0.937500      0.354167\n",
              "2                      2  0.861111     1.516204      0.655093\n",
              "3                      3  0.944444     1.606481      0.662037\n",
              "4                      4  0.944444     1.606481      0.662037\n",
              "5                      5  0.944444     1.606481      0.662037"
            ]
          },
          "metadata": {},
          "execution_count": 10
        }
      ]
    }
  ]
}